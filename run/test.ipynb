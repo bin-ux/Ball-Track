{
 "cells": [
  {
   "cell_type": "code",
   "execution_count": 4,
   "metadata": {},
   "outputs": [
    {
     "name": "stderr",
     "output_type": "stream",
     "text": [
      "\u001b[34m\u001b[1mdetect: \u001b[0mweights=['weights/best.pt'], source=test/4.mp4, data=yolov5/data/coco128.yaml, imgsz=[640, 640], conf_thres=0.5, iou_thres=0.45, max_det=1000, device=, view_img=False, save_txt=False, save_conf=False, save_crop=False, nosave=False, classes=None, agnostic_nms=False, augment=False, visualize=False, update=False, project=yolov5\\runs\\detect, name=exp, exist_ok=False, line_thickness=3, hide_labels=False, hide_conf=False, half=False, dnn=False, vid_stride=1\n",
      "YOLOv5  2022-9-11 Python-3.8.8 torch-1.12.1+cpu CPU\n",
      "\n",
      "Fusing layers... \n",
      "Model summary: 224 layers, 7056607 parameters, 0 gradients\n",
      "video 1/1 (1/28) C:\\Users\\Bindu\\Downloads\\balltrack\\code\\test\\4.mp4: 640x608 1 ball, 1 bat, 1475.3ms\n",
      "video 1/1 (2/28) C:\\Users\\Bindu\\Downloads\\balltrack\\code\\test\\4.mp4: 640x608 1 ball, 1 bat, 392.3ms\n",
      "video 1/1 (3/28) C:\\Users\\Bindu\\Downloads\\balltrack\\code\\test\\4.mp4: 640x608 1 ball, 1 bat, 384.1ms\n",
      "video 1/1 (4/28) C:\\Users\\Bindu\\Downloads\\balltrack\\code\\test\\4.mp4: 640x608 1 ball, 1 bat, 378.9ms\n",
      "video 1/1 (5/28) C:\\Users\\Bindu\\Downloads\\balltrack\\code\\test\\4.mp4: 640x608 1 ball, 1 bat, 393.9ms\n",
      "video 1/1 (6/28) C:\\Users\\Bindu\\Downloads\\balltrack\\code\\test\\4.mp4: 640x608 1 ball, 1 bat, 377.1ms\n",
      "video 1/1 (7/28) C:\\Users\\Bindu\\Downloads\\balltrack\\code\\test\\4.mp4: 640x608 1 bat, 387.4ms\n",
      "video 1/1 (8/28) C:\\Users\\Bindu\\Downloads\\balltrack\\code\\test\\4.mp4: 640x608 1 ball, 1 bat, 394.5ms\n",
      "video 1/1 (9/28) C:\\Users\\Bindu\\Downloads\\balltrack\\code\\test\\4.mp4: 640x608 1 ball, 1 bat, 375.7ms\n",
      "video 1/1 (10/28) C:\\Users\\Bindu\\Downloads\\balltrack\\code\\test\\4.mp4: 640x608 1 ball, 1 bat, 371.8ms\n",
      "video 1/1 (11/28) C:\\Users\\Bindu\\Downloads\\balltrack\\code\\test\\4.mp4: 640x608 1 ball, 1 bat, 340.9ms\n",
      "video 1/1 (12/28) C:\\Users\\Bindu\\Downloads\\balltrack\\code\\test\\4.mp4: 640x608 1 ball, 1 bat, 360.8ms\n",
      "video 1/1 (13/28) C:\\Users\\Bindu\\Downloads\\balltrack\\code\\test\\4.mp4: 640x608 1 ball, 1 bat, 357.8ms\n",
      "video 1/1 (14/28) C:\\Users\\Bindu\\Downloads\\balltrack\\code\\test\\4.mp4: 640x608 1 ball, 1 bat, 348.8ms\n",
      "video 1/1 (15/28) C:\\Users\\Bindu\\Downloads\\balltrack\\code\\test\\4.mp4: 640x608 1 bat, 350.8ms\n",
      "video 1/1 (16/28) C:\\Users\\Bindu\\Downloads\\balltrack\\code\\test\\4.mp4: 640x608 1 ball, 370.8ms\n",
      "video 1/1 (17/28) C:\\Users\\Bindu\\Downloads\\balltrack\\code\\test\\4.mp4: 640x608 (no detections), 376.7ms\n",
      "video 1/1 (18/28) C:\\Users\\Bindu\\Downloads\\balltrack\\code\\test\\4.mp4: 640x608 (no detections), 427.6ms\n",
      "video 1/1 (19/28) C:\\Users\\Bindu\\Downloads\\balltrack\\code\\test\\4.mp4: 640x608 (no detections), 343.8ms\n",
      "video 1/1 (20/28) C:\\Users\\Bindu\\Downloads\\balltrack\\code\\test\\4.mp4: 640x608 (no detections), 336.9ms\n",
      "video 1/1 (21/28) C:\\Users\\Bindu\\Downloads\\balltrack\\code\\test\\4.mp4: 640x608 (no detections), 346.8ms\n",
      "video 1/1 (22/28) C:\\Users\\Bindu\\Downloads\\balltrack\\code\\test\\4.mp4: 640x608 1 bat, 330.9ms\n",
      "video 1/1 (23/28) C:\\Users\\Bindu\\Downloads\\balltrack\\code\\test\\4.mp4: 640x608 1 bat, 351.8ms\n",
      "video 1/1 (24/28) C:\\Users\\Bindu\\Downloads\\balltrack\\code\\test\\4.mp4: 640x608 1 bat, 367.8ms\n",
      "video 1/1 (25/28) C:\\Users\\Bindu\\Downloads\\balltrack\\code\\test\\4.mp4: 640x608 1 bat, 329.9ms\n",
      "video 1/1 (26/28) C:\\Users\\Bindu\\Downloads\\balltrack\\code\\test\\4.mp4: 640x608 1 bat, 343.9ms\n",
      "video 1/1 (27/28) C:\\Users\\Bindu\\Downloads\\balltrack\\code\\test\\4.mp4: 640x608 1 bat, 332.9ms\n",
      "video 1/1 (28/28) C:\\Users\\Bindu\\Downloads\\balltrack\\code\\test\\4.mp4: 640x608 1 bat, 489.9ms\n",
      "Speed: 7.0ms pre-process, 408.6ms inference, 4.6ms NMS per image at shape (1, 3, 640, 640)\n",
      "Results saved to \u001b[1myolov5\\runs\\detect\\exp\u001b[0m\n"
     ]
    }
   ],
   "source": [
    "#!python yolov5/detect.py --source new.mp4 --weights best.pt --conf 0.45\n",
    "!python yolov5/detect.py --weights weights/best.pt --img 640 --conf 0.5 --data yolov5/data/coco128.yaml --source test/4.mp4 "
   ]
  },
  {
   "cell_type": "code",
   "execution_count": null,
   "metadata": {},
   "outputs": [],
   "source": []
  }
 ],
 "metadata": {
  "kernelspec": {
   "display_name": "Python 3.8.8 ('base')",
   "language": "python",
   "name": "python3"
  },
  "language_info": {
   "codemirror_mode": {
    "name": "ipython",
    "version": 3
   },
   "file_extension": ".py",
   "mimetype": "text/x-python",
   "name": "python",
   "nbconvert_exporter": "python",
   "pygments_lexer": "ipython3",
   "version": "3.8.8"
  },
  "orig_nbformat": 4,
  "vscode": {
   "interpreter": {
    "hash": "6f5583cf1d9466b5c27e75c89cc6b383bed5736d6b16c51c8074d8690011a952"
   }
  }
 },
 "nbformat": 4,
 "nbformat_minor": 2
}
